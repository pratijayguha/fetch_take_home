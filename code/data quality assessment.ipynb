{
 "cells": [
  {
   "cell_type": "code",
   "execution_count": null,
   "metadata": {},
   "outputs": [],
   "source": [
    "import commons\n",
    "import functions as func\n",
    "import pandas as pd\n",
    "\n",
    "# Pandas Variables\n",
    "pd.set_option(\"display.max_columns\", None)\n",
    "pd.set_option(\"display.max_rows\", 40)"
   ]
  },
  {
   "cell_type": "code",
   "execution_count": null,
   "metadata": {},
   "outputs": [],
   "source": [
    "products = pd.read_parquet(commons.PRODUCTS_CLEAN_PARQUET_PATH)\n",
    "users = pd.read_parquet(commons.USERS_CLEAN_PARQUET_PATH)\n",
    "transactions = pd.read_parquet(commons.TRANSACTIONS_CLEAN_PARQUET_PATH)\n",
    "\n",
    "\n",
    "products_nulls = func.get_null_counts(products)\n",
    "users_nulls = func.get_null_counts(users)\n",
    "transactions_nulls = func.get_null_counts(transactions)"
   ]
  },
  {
   "cell_type": "code",
   "execution_count": null,
   "metadata": {},
   "outputs": [],
   "source": [
    "plot = func.plot_null_percentages(transactions_nulls)\n",
    "plot.title(\"Transactions Table\")\n",
    "plot.savefig(commons.TRANSACTIONS_NULL_PCT_CHART_PATH, dpi=300, format=\"png\")\n",
    "\n",
    "plot = func.plot_null_percentages(users_nulls)\n",
    "plot.title('Users Table')\n",
    "plot.savefig(commons.USERS_NULL_PCT_CHART_PATH, dpi=300, format=\"png\")\n",
    "\n",
    "plot = func.plot_null_percentages(products_nulls)\n",
    "plot.title('Products Table')\n",
    "plot.savefig(commons.PRODUCTS_NULL_PCT_CHART_PATH, dpi=300, format=\"png\")"
   ]
  },
  {
   "cell_type": "code",
   "execution_count": null,
   "metadata": {},
   "outputs": [],
   "source": [
    "import pandas as pd\n",
    "import seaborn as sns\n",
    "import matplotlib.pyplot as plt\n",
    "\n",
    "\n",
    "def plot_null_stats_by_date(df, col: str):\n",
    "    df[col] = pd.to_datetime(df[col])\n",
    "    df[\"year\"] = df[\"CREATED_DATE\"].dt.strftime(\"%Y\")\n",
    "\n",
    "    # Count nulls and non-nulls for each year-month\n",
    "    null_counts = (\n",
    "        df.groupby(\"year\").apply(lambda x: x.isnull().sum().sum()).reset_index()\n",
    "    )\n",
    "    non_null_counts = (\n",
    "        df.groupby(\"year\").apply(lambda x: x.notnull().sum().sum()).reset_index()\n",
    "    )\n",
    "\n",
    "    null_counts.columns = [\"year\", \"null_count\"]\n",
    "    non_null_counts.columns = [\"year\", \"non_null_count\"]\n",
    "\n",
    "    # Merge counts\n",
    "    stats = pd.merge(null_counts, non_null_counts, on=\"year\")\n",
    "    stats = stats.sort_values(\"year\")\n",
    "\n",
    "    # Plot\n",
    "    plt.figure(figsize=(12, 6))\n",
    "    sns.barplot(x=\"year\", y=\"null_count\", data=stats, color=\"red\", label=\"Null\")\n",
    "    sns.barplot(\n",
    "        x=\"year\",\n",
    "        y=\"non_null_count\",\n",
    "        data=stats,\n",
    "        color=\"green\",\n",
    "        label=\"Non-Null\",\n",
    "        bottom=stats[\"null_count\"],\n",
    "    )\n",
    "\n",
    "    plt.xticks(rotation=45, ha=\"right\")\n",
    "    plt.xlabel(\"Year-Month\")\n",
    "    plt.ylabel(\"Count\")\n",
    "    plt.legend()\n",
    "    plt.tight_layout()\n",
    "\n",
    "    return plt\n",
    "\n",
    "\n",
    "plot_null_stats_by_date(users)\n",
    "plt.show()"
   ]
  },
  {
   "cell_type": "code",
   "execution_count": null,
   "metadata": {},
   "outputs": [],
   "source": [
    "products_nulls"
   ]
  },
  {
   "cell_type": "code",
   "execution_count": null,
   "metadata": {},
   "outputs": [],
   "source": []
  },
  {
   "cell_type": "code",
   "execution_count": null,
   "metadata": {},
   "outputs": [],
   "source": []
  }
 ],
 "metadata": {
  "kernelspec": {
   "display_name": "Python 3",
   "language": "python",
   "name": "python3"
  },
  "language_info": {
   "codemirror_mode": {
    "name": "ipython",
    "version": 3
   },
   "file_extension": ".py",
   "mimetype": "text/x-python",
   "name": "python",
   "nbconvert_exporter": "python",
   "pygments_lexer": "ipython3",
   "version": "3.10.12"
  }
 },
 "nbformat": 4,
 "nbformat_minor": 2
}
