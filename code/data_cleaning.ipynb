{
 "cells": [
  {
   "cell_type": "code",
   "execution_count": null,
   "metadata": {},
   "outputs": [],
   "source": [
    "import commons\n",
    "import pandas as pd\n",
    "import functions as func\n",
    "\n",
    "# Pandas Variables\n",
    "pd.set_option(\"display.max_columns\", None)\n",
    "pd.set_option(\"display.max_rows\", 40)\n",
    "\n",
    "# Custom User Variables\n",
    "SAMPLE_ROWS = 1000 # Number of rows to save in sample datasets"
   ]
  },
  {
   "cell_type": "code",
   "execution_count": null,
   "metadata": {},
   "outputs": [],
   "source": [
    "# Reading Raw Tables\n",
    "products = pd.read_csv(commons.PRODUCTS_CSV_PATH)\n",
    "users = pd.read_csv(commons.USERS_CSV_PATH)\n",
    "transactions = pd.read_csv(commons.TRANSACTIONS_CSV_PATH)\n",
    "\n",
    "# Creating sample datasets for quick review\n",
    "products.head(SAMPLE_ROWS).to_csv(commons.PRODUCTS_SAMPLE_CSV_PATH, index=False)\n",
    "transactions.head(SAMPLE_ROWS).to_csv(commons.TRANSACTIONS_SAMPLE_CSV_PATH, index=False)\n",
    "users.head(SAMPLE_ROWS).to_csv(commons.USERS_SAMPLE_CSV_PATH, index=False)"
   ]
  },
  {
   "cell_type": "markdown",
   "metadata": {},
   "source": [
    "# Data Cleaning\n",
    "## Transactions Table\n",
    "Standardizes data types and handles missing values in the transactions DataFrame:\n",
    "1. Converts `BARCODE` to nullable Int64 type to handle NaN values\n",
    "2. Converts date fields to pandas datetime using `standardize_datetime()`:\n",
    "    - `SCAN_DATE`: \"%Y-%m-%d %H:%M:%S.%f Z\" format\n",
    "    - `PURCHASE_DATE`: \"%Y-%m-%d\" format  \n",
    "3. Fixes `FINAL_QUANTITY`:\n",
    "    - Replaces \"zero\" with 0 \n",
    "    - Converts to numeric, coercing errors to NaN\n",
    "4. Fixes `FINAL_SALE`:\n",
    "    - Converts to numeric, coercing errors to NaN\n"
   ]
  },
  {
   "cell_type": "code",
   "execution_count": null,
   "metadata": {},
   "outputs": [],
   "source": [
    "# Convert BARCODE to nullable integer\n",
    "transactions['BARCODE'] = transactions['BARCODE'].astype('Int64')\n",
    "\n",
    "# Convert dates to datetime format\n",
    "transactions[\"SCAN_DATE\"] = func.standardize_datetime(\n",
    "    transactions, \"SCAN_DATE\", \"%Y-%m-%d %H:%M:%S.%f Z\"\n",
    ")\n",
    "transactions[\"PURCHASE_DATE\"] = func.standardize_datetime(\n",
    "    transactions, \"PURCHASE_DATE\", \"%Y-%m-%d\"\n",
    ")\n",
    "\n",
    "# Standardize numeric fields\n",
    "transactions[\"FINAL_QUANTITY\"] = (transactions[\"FINAL_QUANTITY\"]\n",
    "    .replace(\"zero\", \"0\")\n",
    "    .pipe(pd.to_numeric, errors=\"coerce\"))\n",
    "\n",
    "transactions[\"FINAL_SALE\"] = pd.to_numeric(\n",
    "    transactions[\"FINAL_SALE\"], \n",
    "    errors=\"coerce\"\n",
    ")"
   ]
  },
  {
   "cell_type": "markdown",
   "metadata": {},
   "source": [
    "## Users Table\n",
    "Converts user date fields to pandas datetime using `standardize_datetime()`:\n",
    "  - `BIRTH_DATE`: \"%Y-%m-%d %H:%M:%S.%f Z\" format\n",
    "  - `CREATED_DATE`: \"%Y-%m-%d %H:%M:%S.%f Z\" format"
   ]
  },
  {
   "cell_type": "code",
   "execution_count": null,
   "metadata": {},
   "outputs": [],
   "source": [
    "# Convert dates to datetime format\n",
    "users[\"BIRTH_DATE\"] = func.standardize_datetime(\n",
    "    users, \"BIRTH_DATE\", \"%Y-%m-%d %H:%M:%S.%f Z\"\n",
    ")\n",
    "users[\"CREATED_DATE\"] = func.standardize_datetime(\n",
    "    users, \"CREATED_DATE\", \"%Y-%m-%d %H:%M:%S.%f Z\"\n",
    ")"
   ]
  },
  {
   "cell_type": "markdown",
   "metadata": {},
   "source": [
    "## Products Table\n",
    "1. Converts `BARCODE` to nullable Int64 type to handle NaN values\n"
   ]
  },
  {
   "cell_type": "code",
   "execution_count": null,
   "metadata": {},
   "outputs": [],
   "source": [
    "# Convert BARCODE to nullable integer\n",
    "products['BARCODE'] = products['BARCODE'].astype('Int64')"
   ]
  },
  {
   "cell_type": "markdown",
   "metadata": {},
   "source": [
    "# Writing DataFrames\n",
    "\n",
    "We use Parquet files (.parquet) because they:\n",
    "- Preserve pandas data types accurately\n",
    "- Provide efficient compression\n",
    "- Enable fast read/write operations\n",
    "- Use column-oriented storage for optimized querying"
   ]
  },
  {
   "cell_type": "code",
   "execution_count": null,
   "metadata": {},
   "outputs": [],
   "source": [
    "users.to_parquet(commons.USERS_CLEAN_PARQUET_PATH)\n",
    "transactions.to_parquet(commons.TRANSACTIONS_CLEAN_PARQUET_PATH)\n",
    "products.to_parquet(commons.PRODUCTS_CLEAN_PARQUET_PATH)"
   ]
  }
 ],
 "metadata": {
  "kernelspec": {
   "display_name": "Python 3",
   "language": "python",
   "name": "python3"
  },
  "language_info": {
   "codemirror_mode": {
    "name": "ipython",
    "version": 3
   },
   "file_extension": ".py",
   "mimetype": "text/x-python",
   "name": "python",
   "nbconvert_exporter": "python",
   "pygments_lexer": "ipython3",
   "version": "3.10.12"
  }
 },
 "nbformat": 4,
 "nbformat_minor": 2
}
